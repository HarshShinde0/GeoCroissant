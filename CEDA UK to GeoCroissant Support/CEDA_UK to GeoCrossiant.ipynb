{
 "cells": [
  {
   "cell_type": "markdown",
   "id": "VUe4xwyEk5BU",
   "metadata": {
    "id": "VUe4xwyEk5BU"
   },
   "source": [
    "# Install dependencies"
   ]
  },
  {
   "cell_type": "code",
   "execution_count": 1,
   "id": "773ed6d3-3d6c-4e90-90b1-064384e32c11",
   "metadata": {
    "colab": {
     "base_uri": "https://localhost:8080/",
     "height": 1000
    },
    "id": "773ed6d3-3d6c-4e90-90b1-064384e32c11",
    "outputId": "d1c2166c-f868-418e-af3b-21213e804cbd"
   },
   "outputs": [],
   "source": [
    "# Install dependencies\n",
    "try:\n",
    "    from ceda_datapoint import DataPointClient\n",
    "except ImportError as exc:\n",
    "    !pip install ceda-datapoint\n",
    "    from ceda_datapoint import DataPointClient"
   ]
  },
  {
   "cell_type": "markdown",
   "id": "N6gaFRbclCf5",
   "metadata": {
    "id": "N6gaFRbclCf5"
   },
   "source": [
    "# Create a client instance - for searching the CEDA STAC catalog"
   ]
  },
  {
   "cell_type": "code",
   "execution_count": 2,
   "id": "4946c7bd-a5c8-451c-bbcd-60aeef22d244",
   "metadata": {
    "id": "4946c7bd-a5c8-451c-bbcd-60aeef22d244"
   },
   "outputs": [
    {
     "data": {
      "text/plain": [
       "\n",
       "<DataPointClient: CEDA-268949>\n",
       " - url: https://api.stac.ceda.ac.uk\n",
       " - organisation: CEDA"
      ]
     },
     "execution_count": 2,
     "metadata": {},
     "output_type": "execute_result"
    }
   ],
   "source": [
    "from ceda_datapoint import DataPointClient\n",
    "client = DataPointClient(org=\"CEDA\")\n",
    "client"
   ]
  },
  {
   "cell_type": "markdown",
   "id": "pmQl2GMnlMT-",
   "metadata": {
    "id": "pmQl2GMnlMT-"
   },
   "source": [
    "# Basic search\n",
    "Perform a basic search of the CMIP6 climate model simulations dataset, filtering on experiment, activity and institution:"
   ]
  },
  {
   "cell_type": "code",
   "execution_count": 3,
   "id": "d17f347c-f531-4495-ba00-a60a9eb18ab2",
   "metadata": {
    "id": "d17f347c-f531-4495-ba00-a60a9eb18ab2"
   },
   "outputs": [],
   "source": [
    "search_basic = client.search(\n",
    "    collections=['cmip6'],\n",
    "    query=[\n",
    "        'cmip6:experiment_id=ssp585',\n",
    "        'cmip6:activity_id=ScenarioMIP',\n",
    "        'cmip6:institution_id=KIOST',\n",
    "    ],\n",
    "    max_items = 10\n",
    ")"
   ]
  },
  {
   "cell_type": "markdown",
   "id": "Lw2RK-WClQrV",
   "metadata": {
    "id": "Lw2RK-WClQrV"
   },
   "source": [
    "# Collect up the \"cloud assets\" connected with the search results\n",
    "This method collects up the cloud assets, which may be Zarr, NetCDF or Kerchunk files. The latter represent an index that points to content within other files (typically NetCDF).\n",
    "\n",
    "The files themselves can be served over a variety of protocols, including:\n",
    "\n",
    "POSIX: local file system\n",
    "HTTP(S): old-fashioned HTTP(S) access\n",
    "S3: using Amazon's S3 protocol (over HTTP(S))\n",
    "We identify them and then list the related products."
   ]
  },
  {
   "cell_type": "code",
   "execution_count": 4,
   "id": "015a65f0-45bf-4b1c-bee8-630f910b667e",
   "metadata": {
    "id": "015a65f0-45bf-4b1c-bee8-630f910b667e"
   },
   "outputs": [
    {
     "data": {
      "text/plain": [
       "\n",
       "<DataPointCluster: CEDA-268949-403728-223289 (Datasets: 10)>\n",
       " - url: https://api.stac.ceda.ac.uk\n",
       " - organisation: CEDA\n",
       " - search_terms: {'query': ['cmip6:experiment_id=ssp585', 'cmip6:activity_id=ScenarioMIP', 'cmip6:institution_id=KIOST'], 'max_items': 10}\n",
       " - collections: ['cmip6']\n",
       " - products: 10\n",
       "Products:\n",
       " - CMIP6.ScenarioMIP.KIOST.KIOST-ESM.ssp585.r1i1p1f1.Amon.vas.gr1.v20191106-reference_file: kerchunk\n",
       " - CMIP6.ScenarioMIP.KIOST.KIOST-ESM.ssp585.r1i1p1f1.Amon.uas.gr1.v20210319-reference_file: kerchunk\n",
       " - CMIP6.ScenarioMIP.KIOST.KIOST-ESM.ssp585.r1i1p1f1.Amon.tas.gr1.v20191106-reference_file: kerchunk\n",
       " - CMIP6.ScenarioMIP.KIOST.KIOST-ESM.ssp585.r1i1p1f1.Amon.sfcWind.gr1.v20191106-reference_file: kerchunk\n",
       " - CMIP6.ScenarioMIP.KIOST.KIOST-ESM.ssp585.r1i1p1f1.Amon.rsus.gr1.v20191106-reference_file: kerchunk\n",
       " - CMIP6.ScenarioMIP.KIOST.KIOST-ESM.ssp585.r1i1p1f1.Amon.rsds.gr1.v20191106-reference_file: kerchunk\n",
       " - CMIP6.ScenarioMIP.KIOST.KIOST-ESM.ssp585.r1i1p1f1.Amon.rlus.gr1.v20191106-reference_file: kerchunk\n",
       " - CMIP6.ScenarioMIP.KIOST.KIOST-ESM.ssp585.r1i1p1f1.Amon.rlds.gr1.v20191106-reference_file: kerchunk\n",
       " - CMIP6.ScenarioMIP.KIOST.KIOST-ESM.ssp585.r1i1p1f1.Amon.psl.gr1.v20191106-reference_file: kerchunk\n",
       " - CMIP6.ScenarioMIP.KIOST.KIOST-ESM.ssp585.r1i1p1f1.Amon.prsn.gr1.v20210928-reference_file: kerchunk"
      ]
     },
     "execution_count": 4,
     "metadata": {},
     "output_type": "execute_result"
    }
   ],
   "source": [
    "cluster = search_basic.collect_cloud_assets()\n",
    "cluster"
   ]
  },
  {
   "cell_type": "code",
   "execution_count": 5,
   "id": "80be1aba-34a1-4a78-9526-0a8b664e7e4d",
   "metadata": {
    "id": "80be1aba-34a1-4a78-9526-0a8b664e7e4d"
   },
   "outputs": [],
   "source": [
    "product = cluster[2]\n",
    "ds = product.open_dataset()"
   ]
  },
  {
   "cell_type": "code",
   "execution_count": 6,
   "id": "973edc23-f9a9-4f47-b1f0-8ef9a0354732",
   "metadata": {
    "id": "973edc23-f9a9-4f47-b1f0-8ef9a0354732"
   },
   "outputs": [
    {
     "data": {
      "text/plain": [
       "['__class__',\n",
       " '__delattr__',\n",
       " '__dict__',\n",
       " '__dir__',\n",
       " '__doc__',\n",
       " '__eq__',\n",
       " '__format__',\n",
       " '__ge__',\n",
       " '__getattribute__',\n",
       " '__gt__',\n",
       " '__hash__',\n",
       " '__init__',\n",
       " '__init_subclass__',\n",
       " '__le__',\n",
       " '__lt__',\n",
       " '__module__',\n",
       " '__ne__',\n",
       " '__new__',\n",
       " '__reduce__',\n",
       " '__reduce_ex__',\n",
       " '__repr__',\n",
       " '__setattr__',\n",
       " '__sizeof__',\n",
       " '__slots__',\n",
       " '__str__',\n",
       " '__subclasshook__',\n",
       " '__weakref__',\n",
       " '_mapper',\n",
       " '_multiple_options',\n",
       " '_open_cfa',\n",
       " '_open_cog',\n",
       " '_open_kerchunk',\n",
       " '_open_zarr',\n",
       " '_prepare_dataset',\n",
       " '_set_visibility',\n",
       " 'attributes',\n",
       " 'bbox',\n",
       " 'cloud_format',\n",
       " 'collection',\n",
       " 'end_datetime',\n",
       " 'get_attribute',\n",
       " 'help',\n",
       " 'href',\n",
       " 'id',\n",
       " 'info',\n",
       " 'meta',\n",
       " 'open_asset',\n",
       " 'open_dataset',\n",
       " 'stac_attributes',\n",
       " 'start_datetime',\n",
       " 'units',\n",
       " 'variables']"
      ]
     },
     "execution_count": 6,
     "metadata": {},
     "output_type": "execute_result"
    }
   ],
   "source": [
    "dir(product)"
   ]
  },
  {
   "cell_type": "markdown",
   "id": "AFjrerROlWcG",
   "metadata": {
    "id": "AFjrerROlWcG"
   },
   "source": [
    "# Select a product and use it (as an Xarray Dataset)\n",
    "A product has an .open_dataset() method, which loads it (lazily) into an xarray.Dataset, making it ready for use in the Python session."
   ]
  },
  {
   "cell_type": "code",
   "execution_count": 7,
   "id": "94d7c9ae-8a94-4b0a-8d8d-f1f3ef4083a8",
   "metadata": {
    "id": "94d7c9ae-8a94-4b0a-8d8d-f1f3ef4083a8"
   },
   "outputs": [
    {
     "data": {
      "image/png": "[encoded data removed]",
      "text/plain": [
       "<Figure size 640x480 with 2 Axes>"
      ]
     },
     "metadata": {},
     "output_type": "display_data"
    }
   ],
   "source": [
    "tas_product = None\n",
    "\n",
    "for product in cluster:\n",
    "    if \"tas\" in product.id:\n",
    "        tas_product = product\n",
    "        break\n",
    "\n",
    "if tas_product:\n",
    "    ds = tas_product.open_dataset()\n",
    "    ds.tas.sel(time=\"2015-01-17 12:00:00\").squeeze().plot()\n",
    "else:\n",
    "    print(\"tas variable not found in cluster\")"
   ]
  },
  {
   "cell_type": "code",
   "execution_count": 8,
   "id": "c6cb026b-9d04-43a2-96fb-ca1c11518a06",
   "metadata": {
    "id": "c6cb026b-9d04-43a2-96fb-ca1c11518a06"
   },
   "outputs": [
    {
     "name": "stdout",
     "output_type": "stream",
     "text": [
      "CMIP6.ScenarioMIP.KIOST.KIOST-ESM.ssp585.r1i1p1f1.Amon.tas.gr1.v20191106-reference_file\n",
      "dict_keys(['type', 'stac_version', 'stac_extensions', 'id', 'geometry', 'bbox', 'links', 'collection'])\n",
      "{'type': 'Feature', 'stac_version': '1.1.0', 'stac_extensions': ['https://stac-extensions.github.io/cmip6/v1.0.0/schema.json'], 'id': 'CMIP6.ScenarioMIP.KIOST.KIOST-ESM.ssp585.r1i1p1f1.Amon.tas.gr1.v20191106', 'geometry': {'type': 'Polygon', 'coordinates': [[[-179.0625, -90.0], [179.0625, -90.0], [179.0625, 90.0], [-179.0625, 90.0], [-179.0625, -90.0]]]}, 'bbox': [-179.0625, -90.0, 179.0625, 90.0], 'links': [{'rel': 'self', 'href': 'https://api.stac.ceda.ac.uk/collections/cmip6/items/CMIP6.ScenarioMIP.KIOST.KIOST-ESM.ssp585.r1i1p1f1.Amon.tas.gr1.v20191106', 'type': 'application/geo+json'}, {'rel': 'parent', 'href': 'https://api.stac.ceda.ac.uk/collections/cmip6', 'type': 'application/json'}, {'rel': 'collection', 'href': 'https://api.stac.ceda.ac.uk/collections/cmip6', 'type': 'application/json', 'title': 'CMIP6'}, {'rel': 'root', 'href': 'https://api.stac.ceda.ac.uk', 'type': 'application/json', 'title': 'CEDA STAC API'}], 'collection': 'cmip6'}\n"
     ]
    }
   ],
   "source": [
    "for product in cluster:\n",
    "    if \"tas\" in product.id:\n",
    "        print(product.id)\n",
    "        print(product.stac_attributes.keys())\n",
    "        print(product.stac_attributes)\n",
    "        break"
   ]
  },
  {
   "cell_type": "code",
   "execution_count": 9,
   "id": "0c79a35e-cd47-4d94-b05d-b757dacd64d3",
   "metadata": {
    "id": "0c79a35e-cd47-4d94-b05d-b757dacd64d3"
   },
   "outputs": [
    {
     "name": "stdout",
     "output_type": "stream",
     "text": [
      "\n",
      "Product ID: CMIP6.ScenarioMIP.KIOST.KIOST-ESM.ssp585.r1i1p1f1.Amon.vas.gr1.v20191106-reference_file\n",
      "Available stac_attributes keys: dict_keys(['type', 'stac_version', 'stac_extensions', 'id', 'geometry', 'bbox', 'links', 'collection'])\n",
      "\n",
      "Product ID: CMIP6.ScenarioMIP.KIOST.KIOST-ESM.ssp585.r1i1p1f1.Amon.uas.gr1.v20210319-reference_file\n",
      "Available stac_attributes keys: dict_keys(['type', 'stac_version', 'stac_extensions', 'id', 'geometry', 'bbox', 'links', 'collection'])\n",
      "\n",
      "Product ID: CMIP6.ScenarioMIP.KIOST.KIOST-ESM.ssp585.r1i1p1f1.Amon.tas.gr1.v20191106-reference_file\n",
      "Available stac_attributes keys: dict_keys(['type', 'stac_version', 'stac_extensions', 'id', 'geometry', 'bbox', 'links', 'collection'])\n",
      "\n",
      "Product ID: CMIP6.ScenarioMIP.KIOST.KIOST-ESM.ssp585.r1i1p1f1.Amon.sfcWind.gr1.v20191106-reference_file\n",
      "Available stac_attributes keys: dict_keys(['type', 'stac_version', 'stac_extensions', 'id', 'geometry', 'bbox', 'links', 'collection'])\n",
      "\n",
      "Product ID: CMIP6.ScenarioMIP.KIOST.KIOST-ESM.ssp585.r1i1p1f1.Amon.rsus.gr1.v20191106-reference_file\n",
      "Available stac_attributes keys: dict_keys(['type', 'stac_version', 'stac_extensions', 'id', 'geometry', 'bbox', 'links', 'collection'])\n",
      "\n",
      "Product ID: CMIP6.ScenarioMIP.KIOST.KIOST-ESM.ssp585.r1i1p1f1.Amon.rsds.gr1.v20191106-reference_file\n",
      "Available stac_attributes keys: dict_keys(['type', 'stac_version', 'stac_extensions', 'id', 'geometry', 'bbox', 'links', 'collection'])\n",
      "\n",
      "Product ID: CMIP6.ScenarioMIP.KIOST.KIOST-ESM.ssp585.r1i1p1f1.Amon.rlus.gr1.v20191106-reference_file\n",
      "Available stac_attributes keys: dict_keys(['type', 'stac_version', 'stac_extensions', 'id', 'geometry', 'bbox', 'links', 'collection'])\n",
      "\n",
      "Product ID: CMIP6.ScenarioMIP.KIOST.KIOST-ESM.ssp585.r1i1p1f1.Amon.rlds.gr1.v20191106-reference_file\n",
      "Available stac_attributes keys: dict_keys(['type', 'stac_version', 'stac_extensions', 'id', 'geometry', 'bbox', 'links', 'collection'])\n",
      "\n",
      "Product ID: CMIP6.ScenarioMIP.KIOST.KIOST-ESM.ssp585.r1i1p1f1.Amon.psl.gr1.v20191106-reference_file\n",
      "Available stac_attributes keys: dict_keys(['type', 'stac_version', 'stac_extensions', 'id', 'geometry', 'bbox', 'links', 'collection'])\n",
      "\n",
      "Product ID: CMIP6.ScenarioMIP.KIOST.KIOST-ESM.ssp585.r1i1p1f1.Amon.prsn.gr1.v20210928-reference_file\n",
      "Available stac_attributes keys: dict_keys(['type', 'stac_version', 'stac_extensions', 'id', 'geometry', 'bbox', 'links', 'collection'])\n"
     ]
    }
   ],
   "source": [
    "for product in cluster:\n",
    "    print(f\"\\nProduct ID: {product.id}\")\n",
    "    print(\"Available stac_attributes keys:\", product.stac_attributes.keys())"
   ]
  },
  {
   "cell_type": "code",
   "execution_count": 10,
   "id": "b8ab3366-2583-49b7-b8cd-b9a27e1c6a79",
   "metadata": {
    "id": "b8ab3366-2583-49b7-b8cd-b9a27e1c6a79"
   },
   "outputs": [
    {
     "name": "stdout",
     "output_type": "stream",
     "text": [
      "CMIP6.ScenarioMIP.KIOST.KIOST-ESM.ssp585.r1i1p1f1.Amon.tas.gr1.v20191106-reference_file\n"
     ]
    }
   ],
   "source": [
    "tas_products = [p for p in cluster if \"tas\" in p.id]\n",
    "\n",
    "for p in tas_products:\n",
    "    print(p.id)"
   ]
  },
  {
   "cell_type": "code",
   "execution_count": 11,
   "id": "0d37344c-7a35-4baf-b596-4993810a7cfb",
   "metadata": {
    "id": "0d37344c-7a35-4baf-b596-4993810a7cfb"
   },
   "outputs": [
    {
     "name": "stdout",
     "output_type": "stream",
     "text": [
      "STAC Metadata for Product ID: CMIP6.ScenarioMIP.KIOST.KIOST-ESM.ssp585.r1i1p1f1.Amon.tas.gr1.v20191106-reference_file\n",
      "STAC Attributes: {'type': 'Feature', 'stac_version': '1.1.0', 'stac_extensions': ['https://stac-extensions.github.io/cmip6/v1.0.0/schema.json'], 'id': 'CMIP6.ScenarioMIP.KIOST.KIOST-ESM.ssp585.r1i1p1f1.Amon.tas.gr1.v20191106', 'geometry': {'type': 'Polygon', 'coordinates': [[[-179.0625, -90.0], [179.0625, -90.0], [179.0625, 90.0], [-179.0625, 90.0], [-179.0625, -90.0]]]}, 'bbox': [-179.0625, -90.0, 179.0625, 90.0], 'links': [{'rel': 'self', 'href': 'https://api.stac.ceda.ac.uk/collections/cmip6/items/CMIP6.ScenarioMIP.KIOST.KIOST-ESM.ssp585.r1i1p1f1.Amon.tas.gr1.v20191106', 'type': 'application/geo+json'}, {'rel': 'parent', 'href': 'https://api.stac.ceda.ac.uk/collections/cmip6', 'type': 'application/json'}, {'rel': 'collection', 'href': 'https://api.stac.ceda.ac.uk/collections/cmip6', 'type': 'application/json', 'title': 'CMIP6'}, {'rel': 'root', 'href': 'https://api.stac.ceda.ac.uk', 'type': 'application/json', 'title': 'CEDA STAC API'}], 'collection': 'cmip6'}\n",
      "type: Feature\n",
      "stac_version: 1.1.0\n",
      "stac_extensions: ['https://stac-extensions.github.io/cmip6/v1.0.0/schema.json']\n",
      "id: CMIP6.ScenarioMIP.KIOST.KIOST-ESM.ssp585.r1i1p1f1.Amon.tas.gr1.v20191106\n",
      "geometry: {'type': 'Polygon', 'coordinates': [[[-179.0625, -90.0], [179.0625, -90.0], [179.0625, 90.0], [-179.0625, 90.0], [-179.0625, -90.0]]]}\n",
      "bbox: [-179.0625, -90.0, 179.0625, 90.0]\n",
      "links: [{'rel': 'self', 'href': 'https://api.stac.ceda.ac.uk/collections/cmip6/items/CMIP6.ScenarioMIP.KIOST.KIOST-ESM.ssp585.r1i1p1f1.Amon.tas.gr1.v20191106', 'type': 'application/geo+json'}, {'rel': 'parent', 'href': 'https://api.stac.ceda.ac.uk/collections/cmip6', 'type': 'application/json'}, {'rel': 'collection', 'href': 'https://api.stac.ceda.ac.uk/collections/cmip6', 'type': 'application/json', 'title': 'CMIP6'}, {'rel': 'root', 'href': 'https://api.stac.ceda.ac.uk', 'type': 'application/json', 'title': 'CEDA STAC API'}]\n",
      "collection: cmip6\n"
     ]
    }
   ],
   "source": [
    "# Access metadata for the selected 'tas' product\n",
    "if tas_product:\n",
    "    metadata = tas_product.stac_attributes\n",
    "    print(\"STAC Metadata for Product ID:\", tas_product.id)\n",
    "    print(\"STAC Attributes:\", metadata)\n",
    "\n",
    "    # If you'd like to see more details or other attributes:\n",
    "    for key, value in metadata.items():\n",
    "        print(f\"{key}: {value}\")\n",
    "else:\n",
    "    print(\"tas product not found.\")"
   ]
  },
  {
   "cell_type": "code",
   "execution_count": 12,
   "id": "181c1683-1864-4049-a5ad-de985f683063",
   "metadata": {
    "id": "181c1683-1864-4049-a5ad-de985f683063"
   },
   "outputs": [
    {
     "name": "stdout",
     "output_type": "stream",
     "text": [
      "ID: CMIP6.ScenarioMIP.KIOST.KIOST-ESM.ssp585.r1i1p1f1.Amon.tas.gr1.v20191106-reference_file\n",
      "Type: Feature\n",
      "STAC Version: 1.1.0\n",
      "Collection: cmip6\n",
      "Links: [{'rel': 'self', 'href': 'https://api.stac.ceda.ac.uk/collections/cmip6/items/CMIP6.ScenarioMIP.KIOST.KIOST-ESM.ssp585.r1i1p1f1.Amon.tas.gr1.v20191106', 'type': 'application/geo+json'}, {'rel': 'parent', 'href': 'https://api.stac.ceda.ac.uk/collections/cmip6', 'type': 'application/json'}, {'rel': 'collection', 'href': 'https://api.stac.ceda.ac.uk/collections/cmip6', 'type': 'application/json', 'title': 'CMIP6'}, {'rel': 'root', 'href': 'https://api.stac.ceda.ac.uk', 'type': 'application/json', 'title': 'CEDA STAC API'}]\n",
      "Bounding Box: [-179.0625, -90.0, 179.0625, 90.0]\n",
      "Geometry: {'type': 'Polygon', 'coordinates': [[[-179.0625, -90.0], [179.0625, -90.0], [179.0625, 90.0], [-179.0625, 90.0], [-179.0625, -90.0]]]}\n"
     ]
    }
   ],
   "source": [
    "if tas_product:\n",
    "    # Extract STAC metadata fields\n",
    "    metadata = tas_product.stac_attributes\n",
    "    item_metadata = {\n",
    "        \"ID\": tas_product.id,\n",
    "        \"Type\": metadata.get(\"type\"),\n",
    "        \"STAC Version\": metadata.get(\"stac_version\"),\n",
    "        \"Collection\": metadata.get(\"collection\"),\n",
    "        \"Links\": metadata.get(\"links\"),\n",
    "        \"Bounding Box\": metadata.get(\"bbox\"),\n",
    "        \"Geometry\": metadata.get(\"geometry\")\n",
    "    }\n",
    "\n",
    "    # Display metadata\n",
    "    for key, value in item_metadata.items():\n",
    "        print(f\"{key}: {value}\")\n",
    "else:\n",
    "    print(\"tas product not found.\")"
   ]
  },
  {
   "cell_type": "code",
   "execution_count": 13,
   "id": "f9448c0c-3078-42a3-8c52-f0ea98c8f19f",
   "metadata": {
    "id": "f9448c0c-3078-42a3-8c52-f0ea98c8f19f"
   },
   "outputs": [
    {
     "name": "stdout",
     "output_type": "stream",
     "text": [
      "['__class__', '__delattr__', '__dict__', '__dir__', '__doc__', '__eq__', '__format__', '__ge__', '__getattribute__', '__gt__', '__hash__', '__init__', '__init_subclass__', '__le__', '__lt__', '__module__', '__ne__', '__new__', '__reduce__', '__reduce_ex__', '__repr__', '__setattr__', '__sizeof__', '__slots__', '__str__', '__subclasshook__', '__weakref__', '_mapper', '_multiple_options', '_open_cfa', '_open_cog', '_open_kerchunk', '_open_zarr', '_prepare_dataset', '_set_visibility', 'attributes', 'bbox', 'cloud_format', 'collection', 'end_datetime', 'get_attribute', 'help', 'href', 'id', 'info', 'meta', 'open_asset', 'open_dataset', 'stac_attributes', 'start_datetime', 'units', 'variables']\n"
     ]
    }
   ],
   "source": [
    "print(dir(tas_product))"
   ]
  },
  {
   "cell_type": "markdown",
   "id": "hFnwLg3MmX5S",
   "metadata": {
    "id": "hFnwLg3MmX5S"
   },
   "source": [
    "# Inspecting Metadata in a STAC Item"
   ]
  },
  {
   "cell_type": "code",
   "execution_count": 14,
   "id": "0d43378b-c472-4ebf-b76e-cc50f96111ff",
   "metadata": {
    "id": "0d43378b-c472-4ebf-b76e-cc50f96111ff"
   },
   "outputs": [
    {
     "name": "stderr",
     "output_type": "stream",
     "text": [
      "WARNING [ceda_datapoint.mixins.properties]: Attribute not found from options: ['variables', 'variable_long_name']\n"
     ]
    },
    {
     "name": "stdout",
     "output_type": "stream",
     "text": [
      "None\n",
      "{'type': 'Feature', 'stac_version': '1.1.0', 'stac_extensions': ['https://stac-extensions.github.io/cmip6/v1.0.0/schema.json'], 'id': 'CMIP6.ScenarioMIP.KIOST.KIOST-ESM.ssp585.r1i1p1f1.Amon.tas.gr1.v20191106', 'geometry': {'type': 'Polygon', 'coordinates': [[[-179.0625, -90.0], [179.0625, -90.0], [179.0625, 90.0], [-179.0625, 90.0], [-179.0625, -90.0]]]}, 'bbox': [-179.0625, -90.0, 179.0625, 90.0], 'links': [{'rel': 'self', 'href': 'https://api.stac.ceda.ac.uk/collections/cmip6/items/CMIP6.ScenarioMIP.KIOST.KIOST-ESM.ssp585.r1i1p1f1.Amon.tas.gr1.v20191106', 'type': 'application/geo+json'}, {'rel': 'parent', 'href': 'https://api.stac.ceda.ac.uk/collections/cmip6', 'type': 'application/json'}, {'rel': 'collection', 'href': 'https://api.stac.ceda.ac.uk/collections/cmip6', 'type': 'application/json', 'title': 'CMIP6'}, {'rel': 'root', 'href': 'https://api.stac.ceda.ac.uk', 'type': 'application/json', 'title': 'CEDA STAC API'}], 'collection': 'cmip6'}\n",
      "{'title': 'CMIP6.ScenarioMIP.KIOST.KIOST-ESM.ssp585.r1i1p1f1.Amon.tas.gr1.v20191106', 'datetime': '2058-01-01T12:00:00Z', 'updated': '2025-01-24T20:07:51.314164Z', 'start_datetime': '2015-01-17T12:00:00Z', 'end_datetime': '2100-12-17T12:00:00Z', 'product': 'model-output', 'project': 'CMIP6', 'model_cohort': 'Registered', 'realm': ['atmos'], 'cmip6:access': ['HTTPServer'], 'cmip6:retracted': False, 'cmip6:citation_url': 'http://cera-www.dkrz.de/WDCC/meta/CMIP6/CMIP6.ScenarioMIP.KIOST.KIOST-ESM.ssp585.r1i1p1f1.Amon.tas.gr1.v20191106.json', 'cmip6:variable_long_name': 'Near-Surface Air Temperature', 'cmip6:variable_units': 'K', 'cmip6:cf_standard_name': 'air_temperature', 'cmip6:activity_id': 'ScenarioMIP', 'cmip6:data_specs_version': '01.00.30', 'cmip6:experiment_title': 'update of RCP8.5 based on SSP5', 'cmip6:frequency': 'mon', 'cmip6:further_info_url': 'https://furtherinfo.es-doc.org/CMIP6.KIOST.KIOST-ESM.ssp585.none.r1i1p1f1', 'cmip6:grid': 'atmos data regridded from Cubed-sphere (c48) to 94X192', 'cmip6:grid_label': 'gr1', 'cmip6:institution_id': 'KIOST', 'cmip6:mip_era': 'CMIP6', 'cmip6:source_id': 'KIOST-ESM', 'cmip6:source_type': 'AGCM', 'cmip6:experiment_id': 'ssp585', 'cmip6:sub_experiment_id': 'none', 'cmip6:nominal_resolution': '250 km', 'cmip6:table_id': 'Amon', 'cmip6:variable_id': 'tas', 'cmip6:variant_label': 'r1i1p1f1', 'created': '2025-01-24T20:07:51.314164Z'}\n"
     ]
    }
   ],
   "source": [
    "# Try checking the 'variables' attribute to see if the data is present there\n",
    "print(tas_product.variables)\n",
    "\n",
    "# Or inspect the 'stac_attributes' for any relevant metadata\n",
    "print(tas_product.stac_attributes)\n",
    "\n",
    "# You can also explore 'attributes' if the other two don't help\n",
    "print(tas_product.attributes)"
   ]
  },
  {
   "cell_type": "markdown",
   "id": "ORWETNbxmMzP",
   "metadata": {
    "id": "ORWETNbxmMzP"
   },
   "source": [
    "# CMIP6 STAC to GeoCroissant Converter"
   ]
  },
  {
   "cell_type": "code",
   "execution_count": 15,
   "id": "af7fe841-a1c0-4252-b4d2-39c9e0bb87d2",
   "metadata": {
    "id": "af7fe841-a1c0-4252-b4d2-39c9e0bb87d2"
   },
   "outputs": [
    {
     "name": "stdout",
     "output_type": "stream",
     "text": [
      "Available assets:\n",
      "  reference_file: <class 'ceda_datapoint.core.asset.BasicAsset'>\n",
      "    Asset ID: CMIP6.ScenarioMIP.KIOST.KIOST-ESM.ssp585.r1i1p1f1.Amon.tas.gr1.v20191106-reference_file\n",
      "  data0001: <class 'ceda_datapoint.core.asset.BasicAsset'>\n",
      "    Asset ID: CMIP6.ScenarioMIP.KIOST.KIOST-ESM.ssp585.r1i1p1f1.Amon.tas.gr1.v20191106-data0001\n",
      "\n",
      "Data files found: 1\n",
      "  [0]: https://dap.ceda.ac.uk/badc/cmip6/data/CMIP6/ScenarioMIP/KIOST/KIOST-ESM/ssp585/r1i1p1f1/Amon/tas/gr1/v20191106/tas_Amon_KIOST-ESM_ssp585_r1i1p1f1_gr1_201501-210012.nc\n",
      "\n",
      "Using data file: tas_Amon_KIOST-ESM_ssp585_r1i1p1f1_gr1_201501-210012.nc\n",
      "Download URL: https://dap.ceda.ac.uk/badc/cmip6/data/CMIP6/ScenarioMIP/KIOST/KIOST-ESM/ssp585/r1i1p1f1/Amon/tas/gr1/v20191106/tas_Amon_KIOST-ESM_ssp585_r1i1p1f1_gr1_201501-210012.nc\n",
      "Skipping download - using placeholder hash\n",
      "Using placeholder hash: placeholder_hash\n",
      "Variables found: ['lat_bnds', 'lon_bnds', 'tas', 'time_bnds', 'lat', 'lon', 'time']\n",
      "\n",
      "GeoCroissant metadata written to: cmip6_tas_geocroissant.json\n"
     ]
    }
   ],
   "source": [
    "import json\n",
    "import hashlib\n",
    "from pathlib import Path\n",
    "from urllib.parse import urlparse\n",
    "from ceda_datapoint import DataPointClient\n",
    "\n",
    "def get_asset_type(asset):\n",
    "    \"\"\"Determine asset type from asset properties or file extension\"\"\"\n",
    "    # Check if asset has type or media_type attributes\n",
    "    if hasattr(asset, 'type'):\n",
    "        return asset.type\n",
    "    if hasattr(asset, 'media_type'):\n",
    "        return asset.media_type\n",
    "    \n",
    "    # For CEDA BasicAsset objects, try to get the URL from different attributes\n",
    "    url = None\n",
    "    if hasattr(asset, 'href'):\n",
    "        url = asset.href\n",
    "    elif hasattr(asset, 'url'):\n",
    "        url = asset.url\n",
    "    elif hasattr(asset, 'contentUrl'):\n",
    "        url = asset.contentUrl\n",
    "    elif hasattr(asset, 'content_url'):\n",
    "        url = asset.content_url\n",
    "    \n",
    "    if url:\n",
    "        path = urlparse(url).path.lower()\n",
    "        if path.endswith('.json'):\n",
    "            return 'application/json'\n",
    "        elif path.endswith(('.nc', '.netcdf', '.cdf')):\n",
    "            return 'application/netcdf'\n",
    "        elif path.endswith('.zarr'):\n",
    "            return 'application/zarr'\n",
    "        elif path.endswith(('.tif', '.tiff', '.geotiff')):\n",
    "            return 'image/tiff'\n",
    "        else:\n",
    "            return 'application/octet-stream'\n",
    "    \n",
    "    # Default fallback\n",
    "    return 'application/octet-stream'\n",
    "\n",
    "def stac_to_geocroissant(stac_item, file_hash=None, filename=None):\n",
    "    \"\"\"Convert a CEDA STAC item to valid GeoCroissant format, optionally adding hash and filename\"\"\"\n",
    "    if hasattr(stac_item, 'stac_attributes'):\n",
    "        # Get basic STAC metadata\n",
    "        stac_attrs = stac_item.stac_attributes\n",
    "        bbox = stac_item.bbox\n",
    "        geometry = stac_attrs.get('geometry', {})\n",
    "        item_id = stac_item.id\n",
    "        \n",
    "        # Get rich CMIP6 metadata from attributes\n",
    "        properties = stac_item.attributes if hasattr(stac_item, 'attributes') else {}\n",
    "        assets = stac_item.get_assets()\n",
    "    else:\n",
    "        properties = stac_item.get('properties', {})\n",
    "        assets = stac_item.get('assets', {})\n",
    "        bbox = stac_item.get('bbox', [])\n",
    "        geometry = stac_item.get('geometry', {})\n",
    "        item_id = stac_item.get('id', 'unknown')\n",
    "\n",
    "    variable_name = properties.get('cmip6:variable_long_name', 'Unknown')\n",
    "    variable_id = properties.get('cmip6:variable_id', 'tas')\n",
    "    variable_units = properties.get('cmip6:variable_units', 'K')\n",
    "\n",
    "    croissant_metadata = {\n",
    "        \"@context\": {\n",
    "            \"@language\": \"en\",\n",
    "            \"@vocab\": \"https://schema.org/\",\n",
    "            \"citeAs\": \"cr:citeAs\",\n",
    "            \"column\": \"cr:column\",\n",
    "            \"conformsTo\": \"dct:conformsTo\",\n",
    "            \"cr\": \"http://mlcommons.org/croissant/\",\n",
    "            \"geocr\": \"http://mlcommons.org/croissant/geocr/\",\n",
    "            \"rai\": \"http://mlcommons.org/croissant/RAI/\",\n",
    "            \"dct\": \"http://purl.org/dc/terms/\",\n",
    "            \"sc\": \"https://schema.org/\",\n",
    "            \"data\": {\n",
    "                \"@id\": \"cr:data\",\n",
    "                \"@type\": \"@json\"\n",
    "            },\n",
    "            \"examples\": {\n",
    "                \"@id\": \"cr:examples\",\n",
    "                \"@type\": \"@json\"\n",
    "            },\n",
    "            \"dataBiases\": \"cr:dataBiases\",\n",
    "            \"dataCollection\": \"cr:dataCollection\",\n",
    "            \"dataType\": {\n",
    "                \"@id\": \"cr:dataType\",\n",
    "                \"@type\": \"@vocab\"\n",
    "            },\n",
    "            \"extract\": \"cr:extract\",\n",
    "            \"field\": \"cr:field\",\n",
    "            \"fileProperty\": \"cr:fileProperty\",\n",
    "            \"fileObject\": \"cr:fileObject\",\n",
    "            \"fileSet\": \"cr:fileSet\",\n",
    "            \"format\": \"cr:format\",\n",
    "            \"includes\": \"cr:includes\",\n",
    "            \"isLiveDataset\": \"cr:isLiveDataset\",\n",
    "            \"jsonPath\": \"cr:jsonPath\",\n",
    "            \"key\": \"cr:key\",\n",
    "            \"md5\": \"cr:md5\",\n",
    "            \"parentField\": \"cr:parentField\",\n",
    "            \"path\": \"cr:path\",\n",
    "            \"personalSensitiveInformation\": \"cr:personalSensitiveInformation\",\n",
    "            \"recordSet\": \"cr:recordSet\",\n",
    "            \"references\": \"cr:references\",\n",
    "            \"regex\": \"cr:regex\",\n",
    "            \"repeated\": \"cr:repeated\",\n",
    "            \"replace\": \"cr:replace\",\n",
    "            \"samplingRate\": \"cr:samplingRate\",\n",
    "            \"separator\": \"cr:separator\",\n",
    "            \"source\": \"cr:source\",\n",
    "            \"subField\": \"cr:subField\",\n",
    "            \"transform\": \"cr:transform\"\n",
    "        },\n",
    "        \"@type\": \"sc:Dataset\",\n",
    "        \"name\": properties.get('title', item_id),\n",
    "        \"alternateName\": [\n",
    "            f\"CMIP6-{variable_id}\",\n",
    "            f\"{properties.get('cmip6:institution_id', 'Unknown')}-{variable_id}\",\n",
    "            f\"{properties.get('cmip6:experiment_id', 'Unknown')}-{variable_id}\"\n",
    "        ],\n",
    "        \"description\": f\"CMIP6 dataset for {variable_name} ({variable_id}) from {properties.get('cmip6:institution_id', 'Unknown')} model. This dataset contains {variable_name} data for the {properties.get('cmip6:experiment_title', 'Unknown experiment')} scenario.\",\n",
    "        \"conformsTo\": \"http://mlcommons.org/croissant/1.0\",\n",
    "        \"version\": \"1.0.0\",\n",
    "        \"creator\": {\n",
    "            \"@type\": \"Organization\",\n",
    "            \"name\": properties.get('cmip6:institution_id', 'Unknown Institution'),\n",
    "            \"url\": f\"https://www.wcrp-climate.org/wgcm-cmip/wgcm-cmip6\"\n",
    "        },\n",
    "        \"url\": f\"https://api.stac.ceda.ac.uk/collections/cmip6/items/{item_id}\",\n",
    "        \"keywords\": [\n",
    "            \"CMIP6\",\n",
    "            \"climate modeling\",\n",
    "            variable_name.lower(),\n",
    "            variable_id,\n",
    "            properties.get('cmip6:activity_id', '').lower(),\n",
    "            properties.get('cmip6:experiment_id', '').lower(),\n",
    "            properties.get('cmip6:institution_id', '').lower(),\n",
    "            \"netcdf\",\n",
    "            \"geospatial\",\n",
    "            \"climate data\",\n",
    "            \"temperature\",\n",
    "            \"atmospheric data\",\n",
    "            \"model output\"\n",
    "        ],\n",
    "        \"citeAs\": properties.get('cmip6:citation_url', f\"https://api.stac.ceda.ac.uk/collections/cmip6/items/{item_id}\"),\n",
    "        \"datePublished\": properties.get('created', properties.get('updated', '2021-12-31')),\n",
    "        \"license\": \"https://creativecommons.org/licenses/by/4.0/\",\n",
    "        \"geocr:BoundingBox\": bbox,\n",
    "        \"geocr:temporalExtent\": {\n",
    "            \"startDate\": properties.get('start_datetime', ''),\n",
    "            \"endDate\": properties.get('end_datetime', '')\n",
    "        },\n",
    "        \"distribution\": [\n",
    "            {\n",
    "                \"@type\": \"cr:FileObject\",\n",
    "                \"@id\": asset_key,\n",
    "                \"name\": filename if filename else asset_key,\n",
    "                \"description\": f\"{asset_key} asset for {item_id}\",\n",
    "                \"contentUrl\": download_url if asset_key.startswith('data') else f\"https://api.stac.ceda.ac.uk/collections/cmip6/items/{item_id}\",\n",
    "                \"encodingFormat\": \"application/netcdf\" if asset_key.startswith('data') else \"application/json\",\n",
    "                \"md5\": file_hash if file_hash and asset_key.startswith('data') else \"placeholder_hash\",\n",
    "                \"sha256\": file_hash if file_hash and asset_key.startswith('data') else \"placeholder_hash\"\n",
    "            }\n",
    "            for asset_key, asset in assets.items()\n",
    "        ] + [\n",
    "            {\n",
    "                \"@type\": \"cr:FileSet\",\n",
    "                \"@id\": \"data_files\",\n",
    "                \"name\": \"data_files\",\n",
    "                \"description\": \"NetCDF data files\",\n",
    "                \"includes\": \"*.nc\",\n",
    "                \"encodingFormat\": \"application/netcdf\"\n",
    "            }\n",
    "        ],\n",
    "        \"recordSet\": [\n",
    "            {\n",
    "                \"@type\": \"cr:RecordSet\",\n",
    "                \"@id\": \"geospatial_metadata\",\n",
    "                \"name\": \"geospatial_metadata\",\n",
    "                \"description\": \"Geospatial metadata extracted from STAC\",\n",
    "                \"field\": [\n",
    "                    {\n",
    "                        \"@type\": \"cr:Field\",\n",
    "                        \"@id\": \"geospatial_metadata/bounding_box\",\n",
    "                        \"name\": \"bounding_box\",\n",
    "                        \"description\": \"Dataset bounding box\",\n",
    "                        \"dataType\": \"sc:Text\",\n",
    "                        \"data\": bbox,\n",
    "                        \"source\": {\n",
    "                            \"fileSet\": {\n",
    "                                \"@id\": \"data_files\"\n",
    "                            }\n",
    "                        }\n",
    "                    },\n",
    "                    {\n",
    "                        \"@type\": \"cr:Field\",\n",
    "                        \"@id\": \"geospatial_metadata/geometry\",\n",
    "                        \"name\": \"geometry\",\n",
    "                        \"description\": \"Dataset geometry\",\n",
    "                        \"dataType\": \"sc:Text\",\n",
    "                        \"data\": geometry,\n",
    "                        \"source\": {\n",
    "                            \"fileSet\": {\n",
    "                                \"@id\": \"data_files\"\n",
    "                            }\n",
    "                        }\n",
    "                    },\n",
    "                    {\n",
    "                        \"@type\": \"cr:Field\",\n",
    "                        \"@id\": \"geospatial_metadata/temporal_coverage\",\n",
    "                        \"name\": \"temporal_coverage\",\n",
    "                        \"description\": \"Temporal coverage\",\n",
    "                        \"dataType\": \"sc:Text\",\n",
    "                        \"data\": f\"{properties.get('start_datetime', '')}/{properties.get('end_datetime', '')}\",\n",
    "                        \"source\": {\n",
    "                            \"fileSet\": {\n",
    "                                \"@id\": \"data_files\"\n",
    "                            }\n",
    "                        }\n",
    "                    }\n",
    "                ]\n",
    "            },\n",
    "            {\n",
    "                \"@type\": \"cr:RecordSet\",\n",
    "                \"@id\": \"cmip6_metadata\",\n",
    "                \"name\": \"cmip6_metadata\",\n",
    "                \"description\": \"CMIP6-specific metadata\",\n",
    "                \"field\": [\n",
    "                    {\n",
    "                        \"@type\": \"cr:Field\",\n",
    "                        \"@id\": \"cmip6_metadata/activity_id\",\n",
    "                        \"name\": \"activity_id\",\n",
    "                        \"description\": \"CMIP6 activity ID\",\n",
    "                        \"dataType\": \"sc:Text\",\n",
    "                        \"data\": properties.get('cmip6:activity_id', ''),\n",
    "                        \"source\": {\n",
    "                            \"fileSet\": {\n",
    "                                \"@id\": \"data_files\"\n",
    "                            }\n",
    "                        }\n",
    "                    },\n",
    "                    {\n",
    "                        \"@type\": \"cr:Field\",\n",
    "                        \"@id\": \"cmip6_metadata/experiment_id\",\n",
    "                        \"name\": \"experiment_id\",\n",
    "                        \"description\": \"CMIP6 experiment ID\",\n",
    "                        \"dataType\": \"sc:Text\",\n",
    "                        \"data\": properties.get('cmip6:experiment_id', ''),\n",
    "                        \"source\": {\n",
    "                            \"fileSet\": {\n",
    "                                \"@id\": \"data_files\"\n",
    "                            }\n",
    "                        }\n",
    "                    },\n",
    "                    {\n",
    "                        \"@type\": \"cr:Field\",\n",
    "                        \"@id\": \"cmip6_metadata/variable_id\",\n",
    "                        \"name\": \"variable_id\",\n",
    "                        \"description\": \"CMIP6 variable ID\",\n",
    "                        \"dataType\": \"sc:Text\",\n",
    "                        \"data\": variable_id,\n",
    "                        \"source\": {\n",
    "                            \"fileSet\": {\n",
    "                                \"@id\": \"data_files\"\n",
    "                            }\n",
    "                        }\n",
    "                    },\n",
    "                    {\n",
    "                        \"@type\": \"cr:Field\",\n",
    "                        \"@id\": \"cmip6_metadata/variable_long_name\",\n",
    "                        \"name\": \"variable_long_name\",\n",
    "                        \"description\": \"CMIP6 variable long name\",\n",
    "                        \"dataType\": \"sc:Text\",\n",
    "                        \"data\": variable_name,\n",
    "                        \"source\": {\n",
    "                            \"fileSet\": {\n",
    "                                \"@id\": \"data_files\"\n",
    "                            }\n",
    "                        }\n",
    "                    },\n",
    "                    {\n",
    "                        \"@type\": \"cr:Field\",\n",
    "                        \"@id\": \"cmip6_metadata/variable_units\",\n",
    "                        \"name\": \"variable_units\",\n",
    "                        \"description\": \"CMIP6 variable units\",\n",
    "                        \"dataType\": \"sc:Text\",\n",
    "                        \"data\": variable_units,\n",
    "                        \"source\": {\n",
    "                            \"fileSet\": {\n",
    "                                \"@id\": \"data_files\"\n",
    "                            }\n",
    "                        }\n",
    "                    },\n",
    "                    {\n",
    "                        \"@type\": \"cr:Field\",\n",
    "                        \"@id\": \"cmip6_metadata/experiment_title\",\n",
    "                        \"name\": \"experiment_title\",\n",
    "                        \"description\": \"CMIP6 experiment title\",\n",
    "                        \"dataType\": \"sc:Text\",\n",
    "                        \"data\": properties.get('cmip6:experiment_title', ''),\n",
    "                        \"source\": {\n",
    "                            \"fileSet\": {\n",
    "                                \"@id\": \"data_files\"\n",
    "                            }\n",
    "                        }\n",
    "                    },\n",
    "                    {\n",
    "                        \"@type\": \"cr:Field\",\n",
    "                        \"@id\": \"cmip6_metadata/frequency\",\n",
    "                        \"name\": \"frequency\",\n",
    "                        \"description\": \"CMIP6 data frequency\",\n",
    "                        \"dataType\": \"sc:Text\",\n",
    "                        \"data\": properties.get('cmip6:frequency', ''),\n",
    "                        \"source\": {\n",
    "                            \"fileSet\": {\n",
    "                                \"@id\": \"data_files\"\n",
    "                            }\n",
    "                        }\n",
    "                    },\n",
    "                    {\n",
    "                        \"@type\": \"cr:Field\",\n",
    "                        \"@id\": \"cmip6_metadata/realm\",\n",
    "                        \"name\": \"realm\",\n",
    "                        \"description\": \"CMIP6 realm\",\n",
    "                        \"dataType\": \"sc:Text\",\n",
    "                        \"data\": properties.get('realm', []),\n",
    "                        \"source\": {\n",
    "                            \"fileSet\": {\n",
    "                                \"@id\": \"data_files\"\n",
    "                            }\n",
    "                        }\n",
    "                    },\n",
    "                    {\n",
    "                        \"@type\": \"cr:Field\",\n",
    "                        \"@id\": \"cmip6_metadata/cf_standard_name\",\n",
    "                        \"name\": \"cf_standard_name\",\n",
    "                        \"description\": \"CF standard name\",\n",
    "                        \"dataType\": \"sc:Text\",\n",
    "                        \"data\": properties.get('cmip6:cf_standard_name', ''),\n",
    "                        \"source\": {\n",
    "                            \"fileSet\": {\n",
    "                                \"@id\": \"data_files\"\n",
    "                            }\n",
    "                        }\n",
    "                    }\n",
    "                ]\n",
    "            }\n",
    "        ]\n",
    "    }\n",
    "    return croissant_metadata\n",
    "\n",
    "# === Step 1: Connect to CEDA and search for CMIP6 tas product (SSP585, KIOST) ===\n",
    "client = DataPointClient(org=\"CEDA\")\n",
    "search = client.search(\n",
    "    collections=[\"cmip6\"],\n",
    "    query=[\n",
    "        \"cmip6:experiment_id=ssp585\",\n",
    "        \"cmip6:activity_id=ScenarioMIP\",\n",
    "        \"cmip6:institution_id=KIOST\",\n",
    "        \"cmip6:variable_id=tas\",\n",
    "    ],\n",
    "    max_items=1\n",
    ")\n",
    "_, stac_item = next(iter(search.items.items()))\n",
    "\n",
    "# === Step 2: Get actual data URLs from CEDA ===\n",
    "assets = stac_item.get_assets()\n",
    "print(\"Available assets:\")\n",
    "for asset_key, asset in assets.items():\n",
    "    print(f\"  {asset_key}: {type(asset)}\")\n",
    "    print(f\"    Asset ID: {asset.meta.get('asset_id', 'Unknown')}\")\n",
    "\n",
    "# Get the actual data file URLs from CEDA\n",
    "try:\n",
    "    data_files = stac_item.get_data_files()\n",
    "    print(f\"\\nData files found: {len(data_files)}\")\n",
    "    for i, data_url in enumerate(data_files):\n",
    "        print(f\"  [{i}]: {data_url}\")\n",
    "    \n",
    "    # Use the first data file URL\n",
    "    if data_files:\n",
    "        download_url = data_files[0]\n",
    "        filename = download_url.split(\"/\")[-1]\n",
    "        print(f\"\\nUsing data file: {filename}\")\n",
    "        print(f\"Download URL: {download_url}\")\n",
    "    else:\n",
    "        raise RuntimeError(\"No data files found\")\n",
    "        \n",
    "except Exception as e:\n",
    "    print(f\"Error getting data files: {e}\")\n",
    "    raise RuntimeError(\"Could not get data file URLs from CEDA\")\n",
    "\n",
    "# Skip download and use placeholder hash\n",
    "print(\"Skipping download - using placeholder hash\")\n",
    "file_hash = \"placeholder_hash\"\n",
    "print(f\"Using placeholder hash: {file_hash}\")\n",
    "\n",
    "# === Step 3: (Optional) Open dataset for variable and coordinate names ===\n",
    "try:\n",
    "    ds = stac_item.open_dataset()\n",
    "    data_vars = list(ds.data_vars)\n",
    "    coord_vars = list(ds.coords)\n",
    "    print(\"Variables found:\", data_vars + coord_vars)\n",
    "except Exception as e:\n",
    "    print(f\"Warning: Could not open dataset for variable extraction: {e}\")\n",
    "    data_vars, coord_vars = [], []\n",
    "\n",
    "# === Step 4: Build and save GeoCroissant JSON-LD ===\n",
    "OUTPUT_PATH = \"cmip6_tas_geocroissant.json\"\n",
    "geocroissant_data = stac_to_geocroissant(stac_item, file_hash=file_hash, filename=filename)\n",
    "\n",
    "# Add variable/coordinate list to recordSet if available\n",
    "if data_vars or coord_vars:\n",
    "    variable_fields = []\n",
    "    \n",
    "    # Add data variables with proper metadata\n",
    "    for var in data_vars:\n",
    "        var_info = {\n",
    "            \"@type\": \"cr:Field\",\n",
    "            \"@id\": f\"variable_metadata/{var}\",\n",
    "            \"name\": var,\n",
    "            \"description\": f\"Data variable: {var}\",\n",
    "            \"dataType\": \"sc:Text\",\n",
    "            \"data\": f\"Data variable from NetCDF file\",\n",
    "            \"source\": {\n",
    "                \"fileSet\": {\n",
    "                    \"@id\": \"data_files\"\n",
    "                }\n",
    "            }\n",
    "        }\n",
    "        variable_fields.append(var_info)\n",
    "    \n",
    "    # Add coordinate variables with proper metadata\n",
    "    for var in coord_vars:\n",
    "        coord_info = {\n",
    "            \"@type\": \"cr:Field\",\n",
    "            \"@id\": f\"variable_metadata/{var}\",\n",
    "            \"name\": var,\n",
    "            \"description\": f\"Coordinate variable: {var}\",\n",
    "            \"dataType\": \"sc:Text\",\n",
    "            \"data\": f\"Coordinate variable from NetCDF file\",\n",
    "            \"source\": {\n",
    "                \"fileSet\": {\n",
    "                    \"@id\": \"data_files\"\n",
    "                }\n",
    "            }\n",
    "        }\n",
    "        variable_fields.append(coord_info)\n",
    "    \n",
    "    geocroissant_data[\"recordSet\"].append({\n",
    "        \"@type\": \"cr:RecordSet\",\n",
    "        \"@id\": \"variable_metadata\",\n",
    "        \"name\": \"variable_metadata\",\n",
    "        \"description\": \"Variables and coordinates found in NetCDF file\",\n",
    "        \"field\": variable_fields\n",
    "    })\n",
    "\n",
    "with open(OUTPUT_PATH, \"w\") as f:\n",
    "    json.dump(geocroissant_data, f, indent=2)\n",
    "\n",
    "print(f\"\\nGeoCroissant metadata written to: {OUTPUT_PATH}\")"
   ]
  },
  {
   "cell_type": "code",
   "execution_count": 16,
   "id": "c4f95754",
   "metadata": {},
   "outputs": [
    {
     "name": "stdout",
     "output_type": "stream",
     "text": [
      "I0903 20:47:18.565191 139957204780864 validate.py:53] Done.\n"
     ]
    }
   ],
   "source": [
    "!mlcroissant validate --jsonld=cmip6_tas_geocroissant.json"
   ]
  },
  {
   "cell_type": "markdown",
   "id": "c54928a3",
   "metadata": {
    "id": "c54928a3"
   },
   "source": [
    "# Visualization with GeoCrossiant"
   ]
  },
  {
   "cell_type": "code",
   "execution_count": 18,
   "id": "b09e358e",
   "metadata": {},
   "outputs": [
    {
     "name": "stdout",
     "output_type": "stream",
     "text": [
      "GeoCroissant metadata loaded successfully\n",
      "Dataset name: CMIP6.ScenarioMIP.KIOST.KIOST-ESM.ssp585.r1i1p1f1.Amon.tas.gr1.v20191106\n",
      "Description: CMIP6 dataset for Near-Surface Air Temperature (tas) from KIOST model. This dataset contains Near-Surface Air Temperature data for the update of RCP8.5 based on SSP5 scenario.\n",
      "Connected to CEDA and found STAC item\n",
      "Dataset loaded: FrozenMappingWarningOnValuesAccess({'lat': 96, 'bnds': 2, 'lon': 192, 'time': 1032})\n",
      "Variables: ['lat_bnds', 'lon_bnds', 'tas', 'time_bnds']\n",
      "Coordinates: ['lat', 'lon', 'time']\n"
     ]
    },
    {
     "data": {
      "image/png": "[encoded data removed]",
      "text/plain": [
       "<Figure size 640x480 with 2 Axes>"
      ]
     },
     "metadata": {},
     "output_type": "display_data"
    }
   ],
   "source": [
    "import matplotlib.pyplot as plt\n",
    "\n",
    "# Load local GeoCroissant metadata JSON\n",
    "with open(\"cmip6_tas_geocroissant.json\", \"r\") as file:\n",
    "    metadata = json.load(file)\n",
    "\n",
    "print(\"GeoCroissant metadata loaded successfully\")\n",
    "print(f\"Dataset name: {metadata['name']}\")\n",
    "print(f\"Description: {metadata['description']}\")\n",
    "\n",
    "# Connect to CEDA using the same search as the original converter\n",
    "from ceda_datapoint import DataPointClient\n",
    "\n",
    "client = DataPointClient(org=\"CEDA\")\n",
    "search = client.search(\n",
    "    collections=[\"cmip6\"],\n",
    "    query=[\n",
    "        \"cmip6:experiment_id=ssp585\",\n",
    "        \"cmip6:activity_id=ScenarioMIP\", \n",
    "        \"cmip6:institution_id=KIOST\",\n",
    "        \"cmip6:variable_id=tas\",\n",
    "    ],\n",
    "    max_items=1\n",
    ")\n",
    "\n",
    "_, stac_item = next(iter(search.items.items()))\n",
    "print(\"Connected to CEDA and found STAC item\")\n",
    "\n",
    "# Open the NetCDF dataset\n",
    "ds = stac_item.open_dataset()\n",
    "print(f\"Dataset loaded: {ds.dims}\")\n",
    "print(f\"Variables: {list(ds.data_vars)}\")\n",
    "print(f\"Coordinates: {list(ds.coords)}\")\n",
    "\n",
    "# Select the variable and time slice, then plot\n",
    "tas = ds[\"tas\"].sel(time=\"2015-01-17 12:00:00\").squeeze()\n",
    "tas.plot()\n",
    "plt.title(\"tas on 2015-01-17 12:00:00\")\n",
    "plt.show()"
   ]
  },
  {
   "cell_type": "code",
   "execution_count": null,
   "id": "d943b78b",
   "metadata": {},
   "outputs": [],
   "source": []
  }
 ],
 "metadata": {
  "colab": {
   "provenance": []
  },
  "kernelspec": {
   "display_name": "croissant",
   "language": "python",
   "name": "python3"
  },
  "language_info": {
   "codemirror_mode": {
    "name": "ipython",
    "version": 3
   },
   "file_extension": ".py",
   "mimetype": "text/x-python",
   "name": "python",
   "nbconvert_exporter": "python",
   "pygments_lexer": "ipython3",
   "version": "3.10.18"
  }
 },
 "nbformat": 4,
 "nbformat_minor": 5
}
